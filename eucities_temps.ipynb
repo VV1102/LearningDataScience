{
 "cells": [
  {
   "cell_type": "markdown",
   "id": "82f0413e-5c91-4185-af33-42f310a9d372",
   "metadata": {},
   "source": [
    "# EU Cities Temperatures Dataset"
   ]
  },
  {
   "cell_type": "markdown",
   "id": "52a6d6b2-0fec-489d-9ead-13fa73ce0328",
   "metadata": {},
   "source": [
    "This notebook will contain the pre processing and data visualization of the European City Temperature Dataset."
   ]
  },
  {
   "cell_type": "code",
   "execution_count": 2,
   "id": "5c886254-8f57-482b-8fac-2575ba784ed7",
   "metadata": {},
   "outputs": [],
   "source": [
    "import numpy as np\n",
    "import pandas as pd\n",
    "import matplotlib.pyplot as plt\n",
    "%matplotlib inline"
   ]
  },
  {
   "cell_type": "code",
   "execution_count": 3,
   "id": "4d11b884-4758-4064-9557-347b67e41f81",
   "metadata": {},
   "outputs": [],
   "source": [
    "df = pd.read_csv('EuCitiesTemperatures.csv')"
   ]
  },
  {
   "cell_type": "code",
   "execution_count": 4,
   "id": "b85ba959-f9d5-469c-ab94-1af3f55c6f61",
   "metadata": {},
   "outputs": [
    {
     "data": {
      "text/html": [
       "<div>\n",
       "<style scoped>\n",
       "    .dataframe tbody tr th:only-of-type {\n",
       "        vertical-align: middle;\n",
       "    }\n",
       "\n",
       "    .dataframe tbody tr th {\n",
       "        vertical-align: top;\n",
       "    }\n",
       "\n",
       "    .dataframe thead th {\n",
       "        text-align: right;\n",
       "    }\n",
       "</style>\n",
       "<table border=\"1\" class=\"dataframe\">\n",
       "  <thead>\n",
       "    <tr style=\"text-align: right;\">\n",
       "      <th></th>\n",
       "      <th>city</th>\n",
       "      <th>country</th>\n",
       "      <th>population</th>\n",
       "      <th>EU</th>\n",
       "      <th>coastline</th>\n",
       "      <th>latitude</th>\n",
       "      <th>longitude</th>\n",
       "      <th>temperature</th>\n",
       "    </tr>\n",
       "  </thead>\n",
       "  <tbody>\n",
       "    <tr>\n",
       "      <th>0</th>\n",
       "      <td>Elbasan</td>\n",
       "      <td>Albania</td>\n",
       "      <td>2.90</td>\n",
       "      <td>no</td>\n",
       "      <td>yes</td>\n",
       "      <td>41.12</td>\n",
       "      <td>20.08</td>\n",
       "      <td>15.18</td>\n",
       "    </tr>\n",
       "    <tr>\n",
       "      <th>1</th>\n",
       "      <td>Andorra</td>\n",
       "      <td>Andorra</td>\n",
       "      <td>0.07</td>\n",
       "      <td>no</td>\n",
       "      <td>no</td>\n",
       "      <td>42.50</td>\n",
       "      <td>1.52</td>\n",
       "      <td>NaN</td>\n",
       "    </tr>\n",
       "    <tr>\n",
       "      <th>2</th>\n",
       "      <td>Innsbruck</td>\n",
       "      <td>Austria</td>\n",
       "      <td>8.57</td>\n",
       "      <td>yes</td>\n",
       "      <td>no</td>\n",
       "      <td>NaN</td>\n",
       "      <td>11.41</td>\n",
       "      <td>4.54</td>\n",
       "    </tr>\n",
       "    <tr>\n",
       "      <th>3</th>\n",
       "      <td>Graz</td>\n",
       "      <td>Austria</td>\n",
       "      <td>8.57</td>\n",
       "      <td>yes</td>\n",
       "      <td>no</td>\n",
       "      <td>47.08</td>\n",
       "      <td>NaN</td>\n",
       "      <td>6.91</td>\n",
       "    </tr>\n",
       "    <tr>\n",
       "      <th>4</th>\n",
       "      <td>Linz</td>\n",
       "      <td>Austria</td>\n",
       "      <td>8.57</td>\n",
       "      <td>yes</td>\n",
       "      <td>no</td>\n",
       "      <td>48.32</td>\n",
       "      <td>14.29</td>\n",
       "      <td>6.79</td>\n",
       "    </tr>\n",
       "  </tbody>\n",
       "</table>\n",
       "</div>"
      ],
      "text/plain": [
       "        city  country  population   EU coastline  latitude  longitude  \\\n",
       "0    Elbasan  Albania        2.90   no       yes     41.12      20.08   \n",
       "1    Andorra  Andorra        0.07   no        no     42.50       1.52   \n",
       "2  Innsbruck  Austria        8.57  yes        no       NaN      11.41   \n",
       "3       Graz  Austria        8.57  yes        no     47.08        NaN   \n",
       "4       Linz  Austria        8.57  yes        no     48.32      14.29   \n",
       "\n",
       "   temperature  \n",
       "0        15.18  \n",
       "1          NaN  \n",
       "2         4.54  \n",
       "3         6.91  \n",
       "4         6.79  "
      ]
     },
     "execution_count": 4,
     "metadata": {},
     "output_type": "execute_result"
    }
   ],
   "source": [
    "df.head()"
   ]
  },
  {
   "cell_type": "markdown",
   "id": "ea3f3ed3-ef9b-4b77-8fdf-2208c0da858f",
   "metadata": {},
   "source": [
    "### Preprocessing/Analysis"
   ]
  },
  {
   "cell_type": "markdown",
   "id": "cf1026c6-0d20-4818-a686-f06d7f82a951",
   "metadata": {},
   "source": [
    "##### Fill in the missing latitude and longitude values by calculating the average for that country. Round the average to 2 decimal places."
   ]
  },
  {
   "cell_type": "code",
   "execution_count": 5,
   "id": "a12efe9b-0244-4a1a-b61f-c6507d073518",
   "metadata": {},
   "outputs": [],
   "source": [
    "df['latitude'] = df.groupby('country')['latitude'].transform(lambda x: x.fillna(round(x.mean(),2)))\n",
    "df['longitude'] = df.groupby('country')['longitude'].transform(lambda x: x.fillna(round(x.mean(),2)))"
   ]
  },
  {
   "cell_type": "code",
   "execution_count": 6,
   "id": "be18c58b-5660-4c37-a681-896a67b94162",
   "metadata": {},
   "outputs": [
    {
     "data": {
      "text/html": [
       "<div>\n",
       "<style scoped>\n",
       "    .dataframe tbody tr th:only-of-type {\n",
       "        vertical-align: middle;\n",
       "    }\n",
       "\n",
       "    .dataframe tbody tr th {\n",
       "        vertical-align: top;\n",
       "    }\n",
       "\n",
       "    .dataframe thead th {\n",
       "        text-align: right;\n",
       "    }\n",
       "</style>\n",
       "<table border=\"1\" class=\"dataframe\">\n",
       "  <thead>\n",
       "    <tr style=\"text-align: right;\">\n",
       "      <th></th>\n",
       "      <th>city</th>\n",
       "      <th>country</th>\n",
       "      <th>population</th>\n",
       "      <th>EU</th>\n",
       "      <th>coastline</th>\n",
       "      <th>latitude</th>\n",
       "      <th>longitude</th>\n",
       "      <th>temperature</th>\n",
       "    </tr>\n",
       "  </thead>\n",
       "  <tbody>\n",
       "    <tr>\n",
       "      <th>0</th>\n",
       "      <td>Elbasan</td>\n",
       "      <td>Albania</td>\n",
       "      <td>2.90</td>\n",
       "      <td>no</td>\n",
       "      <td>yes</td>\n",
       "      <td>41.12</td>\n",
       "      <td>20.08</td>\n",
       "      <td>15.18</td>\n",
       "    </tr>\n",
       "    <tr>\n",
       "      <th>1</th>\n",
       "      <td>Andorra</td>\n",
       "      <td>Andorra</td>\n",
       "      <td>0.07</td>\n",
       "      <td>no</td>\n",
       "      <td>no</td>\n",
       "      <td>42.50</td>\n",
       "      <td>1.52</td>\n",
       "      <td>NaN</td>\n",
       "    </tr>\n",
       "    <tr>\n",
       "      <th>2</th>\n",
       "      <td>Innsbruck</td>\n",
       "      <td>Austria</td>\n",
       "      <td>8.57</td>\n",
       "      <td>yes</td>\n",
       "      <td>no</td>\n",
       "      <td>47.85</td>\n",
       "      <td>11.41</td>\n",
       "      <td>4.54</td>\n",
       "    </tr>\n",
       "    <tr>\n",
       "      <th>3</th>\n",
       "      <td>Graz</td>\n",
       "      <td>Austria</td>\n",
       "      <td>8.57</td>\n",
       "      <td>yes</td>\n",
       "      <td>no</td>\n",
       "      <td>47.08</td>\n",
       "      <td>14.02</td>\n",
       "      <td>6.91</td>\n",
       "    </tr>\n",
       "    <tr>\n",
       "      <th>4</th>\n",
       "      <td>Linz</td>\n",
       "      <td>Austria</td>\n",
       "      <td>8.57</td>\n",
       "      <td>yes</td>\n",
       "      <td>no</td>\n",
       "      <td>48.32</td>\n",
       "      <td>14.29</td>\n",
       "      <td>6.79</td>\n",
       "    </tr>\n",
       "  </tbody>\n",
       "</table>\n",
       "</div>"
      ],
      "text/plain": [
       "        city  country  population   EU coastline  latitude  longitude  \\\n",
       "0    Elbasan  Albania        2.90   no       yes     41.12      20.08   \n",
       "1    Andorra  Andorra        0.07   no        no     42.50       1.52   \n",
       "2  Innsbruck  Austria        8.57  yes        no     47.85      11.41   \n",
       "3       Graz  Austria        8.57  yes        no     47.08      14.02   \n",
       "4       Linz  Austria        8.57  yes        no     48.32      14.29   \n",
       "\n",
       "   temperature  \n",
       "0        15.18  \n",
       "1          NaN  \n",
       "2         4.54  \n",
       "3         6.91  \n",
       "4         6.79  "
      ]
     },
     "execution_count": 6,
     "metadata": {},
     "output_type": "execute_result"
    }
   ],
   "source": [
    "df.head()"
   ]
  },
  {
   "cell_type": "code",
   "execution_count": 7,
   "id": "5b36d478-e2c7-4899-adb0-68a0d97879cc",
   "metadata": {},
   "outputs": [
    {
     "data": {
      "text/plain": [
       "latitude     0\n",
       "longitude    0\n",
       "dtype: int64"
      ]
     },
     "execution_count": 7,
     "metadata": {},
     "output_type": "execute_result"
    }
   ],
   "source": [
    "df[['latitude', 'longitude']].isna().sum()"
   ]
  },
  {
   "cell_type": "markdown",
   "id": "8da34cb3-0728-4148-9083-9a27d0fa17a0",
   "metadata": {},
   "source": [
    "##### Find out the subset of cities that lie between latitudes 40 to 60 (both inclusive) and longitudes 15 to 30 (both inclusive). Find out which countries have the maximum number of cities in this geographical band. (More than one country could have the maximum number of values.)"
   ]
  },
  {
   "cell_type": "code",
   "execution_count": 8,
   "id": "57ac64d2-373b-406a-ad3a-93c754d6e505",
   "metadata": {},
   "outputs": [],
   "source": [
    "filtered_df = df[(df['latitude'] >= 40) & (df['latitude'] <= 60) & (df['longitude'] >= 15) & (df['longitude'] <= 30)]"
   ]
  },
  {
   "cell_type": "code",
   "execution_count": 9,
   "id": "779f059e-d7a0-4bd6-a122-817d3134ad4b",
   "metadata": {},
   "outputs": [
    {
     "data": {
      "text/html": [
       "<div>\n",
       "<style scoped>\n",
       "    .dataframe tbody tr th:only-of-type {\n",
       "        vertical-align: middle;\n",
       "    }\n",
       "\n",
       "    .dataframe tbody tr th {\n",
       "        vertical-align: top;\n",
       "    }\n",
       "\n",
       "    .dataframe thead th {\n",
       "        text-align: right;\n",
       "    }\n",
       "</style>\n",
       "<table border=\"1\" class=\"dataframe\">\n",
       "  <thead>\n",
       "    <tr style=\"text-align: right;\">\n",
       "      <th></th>\n",
       "      <th>city</th>\n",
       "      <th>country</th>\n",
       "      <th>population</th>\n",
       "      <th>EU</th>\n",
       "      <th>coastline</th>\n",
       "      <th>latitude</th>\n",
       "      <th>longitude</th>\n",
       "      <th>temperature</th>\n",
       "    </tr>\n",
       "  </thead>\n",
       "  <tbody>\n",
       "    <tr>\n",
       "      <th>0</th>\n",
       "      <td>Elbasan</td>\n",
       "      <td>Albania</td>\n",
       "      <td>2.90</td>\n",
       "      <td>no</td>\n",
       "      <td>yes</td>\n",
       "      <td>41.12</td>\n",
       "      <td>20.08</td>\n",
       "      <td>15.18</td>\n",
       "    </tr>\n",
       "    <tr>\n",
       "      <th>6</th>\n",
       "      <td>Vienna</td>\n",
       "      <td>Austria</td>\n",
       "      <td>8.57</td>\n",
       "      <td>yes</td>\n",
       "      <td>no</td>\n",
       "      <td>48.20</td>\n",
       "      <td>16.37</td>\n",
       "      <td>7.86</td>\n",
       "    </tr>\n",
       "    <tr>\n",
       "      <th>7</th>\n",
       "      <td>Minsk</td>\n",
       "      <td>Belarus</td>\n",
       "      <td>9.48</td>\n",
       "      <td>no</td>\n",
       "      <td>no</td>\n",
       "      <td>52.61</td>\n",
       "      <td>27.57</td>\n",
       "      <td>5.28</td>\n",
       "    </tr>\n",
       "    <tr>\n",
       "      <th>8</th>\n",
       "      <td>Orsha</td>\n",
       "      <td>Belarus</td>\n",
       "      <td>9.48</td>\n",
       "      <td>no</td>\n",
       "      <td>no</td>\n",
       "      <td>52.61</td>\n",
       "      <td>25.64</td>\n",
       "      <td>4.93</td>\n",
       "    </tr>\n",
       "    <tr>\n",
       "      <th>9</th>\n",
       "      <td>Pinsk</td>\n",
       "      <td>Belarus</td>\n",
       "      <td>9.48</td>\n",
       "      <td>no</td>\n",
       "      <td>no</td>\n",
       "      <td>52.61</td>\n",
       "      <td>25.64</td>\n",
       "      <td>6.42</td>\n",
       "    </tr>\n",
       "    <tr>\n",
       "      <th>...</th>\n",
       "      <td>...</td>\n",
       "      <td>...</td>\n",
       "      <td>...</td>\n",
       "      <td>...</td>\n",
       "      <td>...</td>\n",
       "      <td>...</td>\n",
       "      <td>...</td>\n",
       "      <td>...</td>\n",
       "    </tr>\n",
       "    <tr>\n",
       "      <th>165</th>\n",
       "      <td>Bursa</td>\n",
       "      <td>Turkey</td>\n",
       "      <td>79.62</td>\n",
       "      <td>no</td>\n",
       "      <td>yes</td>\n",
       "      <td>40.20</td>\n",
       "      <td>29.07</td>\n",
       "      <td>11.16</td>\n",
       "    </tr>\n",
       "    <tr>\n",
       "      <th>169</th>\n",
       "      <td>Edirne</td>\n",
       "      <td>Turkey</td>\n",
       "      <td>79.62</td>\n",
       "      <td>no</td>\n",
       "      <td>yes</td>\n",
       "      <td>41.67</td>\n",
       "      <td>26.57</td>\n",
       "      <td>NaN</td>\n",
       "    </tr>\n",
       "    <tr>\n",
       "      <th>183</th>\n",
       "      <td>Tekirdag</td>\n",
       "      <td>Turkey</td>\n",
       "      <td>79.62</td>\n",
       "      <td>no</td>\n",
       "      <td>yes</td>\n",
       "      <td>40.99</td>\n",
       "      <td>27.51</td>\n",
       "      <td>13.02</td>\n",
       "    </tr>\n",
       "    <tr>\n",
       "      <th>186</th>\n",
       "      <td>Chernivtsi</td>\n",
       "      <td>Ukraine</td>\n",
       "      <td>44.62</td>\n",
       "      <td>no</td>\n",
       "      <td>yes</td>\n",
       "      <td>48.71</td>\n",
       "      <td>25.92</td>\n",
       "      <td>7.06</td>\n",
       "    </tr>\n",
       "    <tr>\n",
       "      <th>193</th>\n",
       "      <td>Rivne</td>\n",
       "      <td>Ukraine</td>\n",
       "      <td>44.62</td>\n",
       "      <td>no</td>\n",
       "      <td>yes</td>\n",
       "      <td>48.71</td>\n",
       "      <td>26.25</td>\n",
       "      <td>6.76</td>\n",
       "    </tr>\n",
       "  </tbody>\n",
       "</table>\n",
       "<p>63 rows × 8 columns</p>\n",
       "</div>"
      ],
      "text/plain": [
       "           city  country  population   EU coastline  latitude  longitude  \\\n",
       "0       Elbasan  Albania        2.90   no       yes     41.12      20.08   \n",
       "6        Vienna  Austria        8.57  yes        no     48.20      16.37   \n",
       "7         Minsk  Belarus        9.48   no        no     52.61      27.57   \n",
       "8         Orsha  Belarus        9.48   no        no     52.61      25.64   \n",
       "9         Pinsk  Belarus        9.48   no        no     52.61      25.64   \n",
       "..          ...      ...         ...  ...       ...       ...        ...   \n",
       "165       Bursa   Turkey       79.62   no       yes     40.20      29.07   \n",
       "169      Edirne   Turkey       79.62   no       yes     41.67      26.57   \n",
       "183    Tekirdag   Turkey       79.62   no       yes     40.99      27.51   \n",
       "186  Chernivtsi  Ukraine       44.62   no       yes     48.71      25.92   \n",
       "193       Rivne  Ukraine       44.62   no       yes     48.71      26.25   \n",
       "\n",
       "     temperature  \n",
       "0          15.18  \n",
       "6           7.86  \n",
       "7           5.28  \n",
       "8           4.93  \n",
       "9           6.42  \n",
       "..           ...  \n",
       "165        11.16  \n",
       "169          NaN  \n",
       "183        13.02  \n",
       "186         7.06  \n",
       "193         6.76  \n",
       "\n",
       "[63 rows x 8 columns]"
      ]
     },
     "execution_count": 9,
     "metadata": {},
     "output_type": "execute_result"
    }
   ],
   "source": [
    "filtered_df"
   ]
  },
  {
   "cell_type": "code",
   "execution_count": 10,
   "id": "c52c7493-f115-4e74-91e7-e22bd3799d36",
   "metadata": {},
   "outputs": [
    {
     "name": "stdout",
     "output_type": "stream",
     "text": [
      "['Romania', 'Poland']\n"
     ]
    }
   ],
   "source": [
    "country_counts = filtered_df['country'].value_counts()\n",
    "max_count = country_counts.max()\n",
    "top_countries = country_counts[country_counts == max_count].index.tolist()\n",
    "print(top_countries)"
   ]
  },
  {
   "cell_type": "markdown",
   "id": "fbd73be8-5f6e-44fd-93df-f8b6d0faee25",
   "metadata": {},
   "source": [
    "##### Fill in the missing temperature values by the average temperature value of the similar region type. A region type would be a combinaton of whether it is in EU (yes/no) and whether it has a coastline (yes/no). For example, if we have a missing temperature value for Bergen, Norway, which is not in the EU but lies on the coast, we will fill it with the average temperature of cities with EU='no' and coastline='yes')"
   ]
  },
  {
   "cell_type": "code",
   "execution_count": 11,
   "id": "5a962969-77ca-443c-a137-096e24029f67",
   "metadata": {},
   "outputs": [
    {
     "data": {
      "text/html": [
       "<div>\n",
       "<style scoped>\n",
       "    .dataframe tbody tr th:only-of-type {\n",
       "        vertical-align: middle;\n",
       "    }\n",
       "\n",
       "    .dataframe tbody tr th {\n",
       "        vertical-align: top;\n",
       "    }\n",
       "\n",
       "    .dataframe thead th {\n",
       "        text-align: right;\n",
       "    }\n",
       "</style>\n",
       "<table border=\"1\" class=\"dataframe\">\n",
       "  <thead>\n",
       "    <tr style=\"text-align: right;\">\n",
       "      <th></th>\n",
       "      <th>city</th>\n",
       "      <th>country</th>\n",
       "      <th>population</th>\n",
       "      <th>EU</th>\n",
       "      <th>coastline</th>\n",
       "      <th>latitude</th>\n",
       "      <th>longitude</th>\n",
       "      <th>temperature</th>\n",
       "    </tr>\n",
       "  </thead>\n",
       "  <tbody>\n",
       "    <tr>\n",
       "      <th>0</th>\n",
       "      <td>Elbasan</td>\n",
       "      <td>Albania</td>\n",
       "      <td>2.90</td>\n",
       "      <td>no</td>\n",
       "      <td>yes</td>\n",
       "      <td>41.12</td>\n",
       "      <td>20.08</td>\n",
       "      <td>15.18</td>\n",
       "    </tr>\n",
       "    <tr>\n",
       "      <th>1</th>\n",
       "      <td>Andorra</td>\n",
       "      <td>Andorra</td>\n",
       "      <td>0.07</td>\n",
       "      <td>no</td>\n",
       "      <td>no</td>\n",
       "      <td>42.50</td>\n",
       "      <td>1.52</td>\n",
       "      <td>NaN</td>\n",
       "    </tr>\n",
       "    <tr>\n",
       "      <th>2</th>\n",
       "      <td>Innsbruck</td>\n",
       "      <td>Austria</td>\n",
       "      <td>8.57</td>\n",
       "      <td>yes</td>\n",
       "      <td>no</td>\n",
       "      <td>47.85</td>\n",
       "      <td>11.41</td>\n",
       "      <td>4.54</td>\n",
       "    </tr>\n",
       "    <tr>\n",
       "      <th>3</th>\n",
       "      <td>Graz</td>\n",
       "      <td>Austria</td>\n",
       "      <td>8.57</td>\n",
       "      <td>yes</td>\n",
       "      <td>no</td>\n",
       "      <td>47.08</td>\n",
       "      <td>14.02</td>\n",
       "      <td>6.91</td>\n",
       "    </tr>\n",
       "    <tr>\n",
       "      <th>4</th>\n",
       "      <td>Linz</td>\n",
       "      <td>Austria</td>\n",
       "      <td>8.57</td>\n",
       "      <td>yes</td>\n",
       "      <td>no</td>\n",
       "      <td>48.32</td>\n",
       "      <td>14.29</td>\n",
       "      <td>6.79</td>\n",
       "    </tr>\n",
       "  </tbody>\n",
       "</table>\n",
       "</div>"
      ],
      "text/plain": [
       "        city  country  population   EU coastline  latitude  longitude  \\\n",
       "0    Elbasan  Albania        2.90   no       yes     41.12      20.08   \n",
       "1    Andorra  Andorra        0.07   no        no     42.50       1.52   \n",
       "2  Innsbruck  Austria        8.57  yes        no     47.85      11.41   \n",
       "3       Graz  Austria        8.57  yes        no     47.08      14.02   \n",
       "4       Linz  Austria        8.57  yes        no     48.32      14.29   \n",
       "\n",
       "   temperature  \n",
       "0        15.18  \n",
       "1          NaN  \n",
       "2         4.54  \n",
       "3         6.91  \n",
       "4         6.79  "
      ]
     },
     "execution_count": 11,
     "metadata": {},
     "output_type": "execute_result"
    }
   ],
   "source": [
    "df.head()"
   ]
  },
  {
   "cell_type": "code",
   "execution_count": 12,
   "id": "6e2574eb-3ff2-41ef-8d50-2a450c8c7bfa",
   "metadata": {},
   "outputs": [],
   "source": [
    "df['temperature'] = df['temperature'].fillna(df.groupby(['EU','coastline'])['temperature'].transform('mean').round(2))"
   ]
  },
  {
   "cell_type": "code",
   "execution_count": 13,
   "id": "b81b60bb-fa13-437f-b840-24adc5e3a5ab",
   "metadata": {},
   "outputs": [
    {
     "data": {
      "text/html": [
       "<div>\n",
       "<style scoped>\n",
       "    .dataframe tbody tr th:only-of-type {\n",
       "        vertical-align: middle;\n",
       "    }\n",
       "\n",
       "    .dataframe tbody tr th {\n",
       "        vertical-align: top;\n",
       "    }\n",
       "\n",
       "    .dataframe thead th {\n",
       "        text-align: right;\n",
       "    }\n",
       "</style>\n",
       "<table border=\"1\" class=\"dataframe\">\n",
       "  <thead>\n",
       "    <tr style=\"text-align: right;\">\n",
       "      <th></th>\n",
       "      <th>city</th>\n",
       "      <th>country</th>\n",
       "      <th>population</th>\n",
       "      <th>EU</th>\n",
       "      <th>coastline</th>\n",
       "      <th>latitude</th>\n",
       "      <th>longitude</th>\n",
       "      <th>temperature</th>\n",
       "    </tr>\n",
       "  </thead>\n",
       "  <tbody>\n",
       "    <tr>\n",
       "      <th>0</th>\n",
       "      <td>Elbasan</td>\n",
       "      <td>Albania</td>\n",
       "      <td>2.90</td>\n",
       "      <td>no</td>\n",
       "      <td>yes</td>\n",
       "      <td>41.12</td>\n",
       "      <td>20.08</td>\n",
       "      <td>15.18</td>\n",
       "    </tr>\n",
       "    <tr>\n",
       "      <th>1</th>\n",
       "      <td>Andorra</td>\n",
       "      <td>Andorra</td>\n",
       "      <td>0.07</td>\n",
       "      <td>no</td>\n",
       "      <td>no</td>\n",
       "      <td>42.50</td>\n",
       "      <td>1.52</td>\n",
       "      <td>7.48</td>\n",
       "    </tr>\n",
       "    <tr>\n",
       "      <th>2</th>\n",
       "      <td>Innsbruck</td>\n",
       "      <td>Austria</td>\n",
       "      <td>8.57</td>\n",
       "      <td>yes</td>\n",
       "      <td>no</td>\n",
       "      <td>47.85</td>\n",
       "      <td>11.41</td>\n",
       "      <td>4.54</td>\n",
       "    </tr>\n",
       "    <tr>\n",
       "      <th>3</th>\n",
       "      <td>Graz</td>\n",
       "      <td>Austria</td>\n",
       "      <td>8.57</td>\n",
       "      <td>yes</td>\n",
       "      <td>no</td>\n",
       "      <td>47.08</td>\n",
       "      <td>14.02</td>\n",
       "      <td>6.91</td>\n",
       "    </tr>\n",
       "    <tr>\n",
       "      <th>4</th>\n",
       "      <td>Linz</td>\n",
       "      <td>Austria</td>\n",
       "      <td>8.57</td>\n",
       "      <td>yes</td>\n",
       "      <td>no</td>\n",
       "      <td>48.32</td>\n",
       "      <td>14.29</td>\n",
       "      <td>6.79</td>\n",
       "    </tr>\n",
       "  </tbody>\n",
       "</table>\n",
       "</div>"
      ],
      "text/plain": [
       "        city  country  population   EU coastline  latitude  longitude  \\\n",
       "0    Elbasan  Albania        2.90   no       yes     41.12      20.08   \n",
       "1    Andorra  Andorra        0.07   no        no     42.50       1.52   \n",
       "2  Innsbruck  Austria        8.57  yes        no     47.85      11.41   \n",
       "3       Graz  Austria        8.57  yes        no     47.08      14.02   \n",
       "4       Linz  Austria        8.57  yes        no     48.32      14.29   \n",
       "\n",
       "   temperature  \n",
       "0        15.18  \n",
       "1         7.48  \n",
       "2         4.54  \n",
       "3         6.91  \n",
       "4         6.79  "
      ]
     },
     "execution_count": 13,
     "metadata": {},
     "output_type": "execute_result"
    }
   ],
   "source": [
    "df.head()"
   ]
  },
  {
   "cell_type": "markdown",
   "id": "fc08f271-631d-4013-96a1-3c6f453b8f5c",
   "metadata": {},
   "source": [
    "### Visualization"
   ]
  },
  {
   "cell_type": "markdown",
   "id": "96f29f4d-8242-41fa-b45a-345af4283b8f",
   "metadata": {},
   "source": [
    "##### Plot a bar chart for the number of cities belonging to each of the regions described in Preprocessing/Analysis #3 above."
   ]
  },
  {
   "cell_type": "code",
   "execution_count": 14,
   "id": "8615b9f1-faec-4a4e-9d43-5cdd4df50e21",
   "metadata": {},
   "outputs": [
    {
     "data": {
      "text/plain": [
       "<function matplotlib.pyplot.show(close=None, block=None)>"
      ]
     },
     "execution_count": 14,
     "metadata": {},
     "output_type": "execute_result"
    },
    {
     "data": {
      "image/png": "[encoded data removed]",
      "text/plain": [
       "<Figure size 800x500 with 1 Axes>"
      ]
     },
     "metadata": {},
     "output_type": "display_data"
    }
   ],
   "source": [
    "region_counts = df.groupby(['EU', 'coastline']).size()\n",
    "region_counts.index = [f\"{eu}_{coast}\" for eu, coast in region_counts.index]\n",
    "\n",
    "plt.figure(figsize=(8,5))\n",
    "plt.bar(region_counts.index, region_counts.values)  # this will give us 4 bars\n",
    "plt.xlabel('Region Type (EU_Coastline)')\n",
    "plt.ylabel('Number of Cities')\n",
    "plt.title('Number of Citis by Region Type')\n",
    "plt.xticks(rotation = 45)\n",
    "plt.tight_layout()\n",
    "plt.show"
   ]
  },
  {
   "cell_type": "markdown",
   "id": "5b88bf24-626b-41d9-9e1e-f323355eeaab",
   "metadata": {},
   "source": [
    "##### Plot a scatter plot of latitude (y-axis) v/s longitude (x-axis) values to get a map-like visual of the cities under consideration. All the cities in the same country should have the same color."
   ]
  },
  {
   "cell_type": "code",
   "execution_count": null,
   "id": "d32df036-6bb7-4c21-b4b3-f4e157b3a579",
   "metadata": {},
   "outputs": [],
   "source": [
    "countries = df['country'].unique()\n",
    "plt.figure(figsize = (10,6))\n",
    "for i, country in enumerate(countries):\n",
    "    subset = df[df['country'] == country]\n",
    "    plt.scatter(subset['longitude'], subset['latitude'], label=country, s=25)\n",
    "\n",
    "plt.xlabel('Longitude')\n",
    "plt.ylabel('Latitude')\n",
    "plt.title('Scatter Plot of Cities by Country')\n",
    "plt.legend(bbox_to_anchor=(1.05,1), loc = 'upper left', title = 'Country', fontsize = 'small')\n",
    "plt.tight_layout()\n",
    "plt.show()"
   ]
  },
  {
   "cell_type": "markdown",
   "id": "259e0546-1065-4e67-ac45-754f448ee7b0",
   "metadata": {},
   "source": [
    "##### The population column contains values unique to each country. So two cities of the same country will show the same population value. Plot a histogram of the number of countries belonging to each population group: split the population values into 5 bins (groups)."
   ]
  },
  {
   "cell_type": "code",
   "execution_count": 16,
   "id": "63c9576e-be4f-43e1-a444-2820920ff01d",
   "metadata": {},
   "outputs": [
    {
     "data": {
      "image/png": "[encoded data removed]",
      "text/plain": [
       "<Figure size 800x500 with 1 Axes>"
      ]
     },
     "metadata": {},
     "output_type": "display_data"
    }
   ],
   "source": [
    "country_pops = df[['country', 'population']].drop_duplicates()\n",
    "plt.figure(figsize=(8,5))\n",
    "plt.hist(country_pops['population'], bins=5, edgecolor = 'black')\n",
    "plt.xlabel('Population(Binned)')\n",
    "plt.ylabel('Number of Countries')\n",
    "plt.title('Histogram of Countries by Population Group')\n",
    "plt.tight_layout()\n",
    "plt.show()"
   ]
  },
  {
   "cell_type": "markdown",
   "id": "b8833849-514a-47f8-b592-b477e1eabe97",
   "metadata": {},
   "source": [
    "##### Plot subplots (2, 2), with proper titles, one each for the region types described in Preprocessing/Analysis #3 above. Each subplot should be a scatter plot of Latitude (y-axis) vs. City (x-axis), where the color of the plot points should be based on the temperature values: ‘red’ for temperatures above 10, ‘blue’ for temperatures below 6 and ‘orange for temperatures between 6 and 10 (both inclusive). For each subplot, set xticks to an array of numbers from 0 to n-1 (both inclusive), where n is the total number of cities in each region type. This represents each city as a number between 0 and n-1."
   ]
  },
  {
   "cell_type": "code",
   "execution_count": null,
   "id": "ec6abeee-321a-43a8-a009-c019f6dcabfe",
   "metadata": {},
   "outputs": [],
   "source": [
    "region_groups = df.groupby(['EU', 'coastline'])\n",
    "fig, axes = plt.subplots(2,2, figsize = (12,10))\n",
    "axes = axes.flatten()\n",
    "\n",
    "def temp_to_color(temp):\n",
    "    if temp > 10:\n",
    "        return 'red'\n",
    "    elif temp < 6:\n",
    "        return 'blue'\n",
    "    else:\n",
    "        return 'orange'\n",
    "\n",
    "for idx, ((eu, coast), group) in enumerate(region_groups):\n",
    "    group =  group.reset_index(drop=True)\n",
    "    x = group.index\n",
    "    y = group['latitude']\n",
    "    colors = group['temperature'].apply(temp_to_color)\n",
    "\n",
    "    ax = axes[idx]\n",
    "    ax.scatter(x,y, c=colors)\n",
    "    ax.set_title(f\"Region: EU={eu}, Coastline = {coast}\")\n",
    "    ax.set_xlabel(\"City Index (0 to n-1)\")\n",
    "    ax.set_ylabel(\"Latitude\")\n",
    "    ax.set_xticks(range(len(group)))\n",
    "\n",
    "plt.tight_layout()\n",
    "plt.show()"
   ]
  },
  {
   "cell_type": "code",
   "execution_count": null,
   "id": "6db6274a-a7ed-438a-837e-5dc4edebe2c9",
   "metadata": {},
   "outputs": [],
   "source": []
  }
 ],
 "metadata": {
  "kernelspec": {
   "display_name": "Python 3 (ipykernel)",
   "language": "python",
   "name": "python3"
  },
  "language_info": {
   "codemirror_mode": {
    "name": "ipython",
    "version": 3
   },
   "file_extension": ".py",
   "mimetype": "text/x-python",
   "name": "python",
   "nbconvert_exporter": "python",
   "pygments_lexer": "ipython3",
   "version": "3.12.7"
  }
 },
 "nbformat": 4,
 "nbformat_minor": 5
}
